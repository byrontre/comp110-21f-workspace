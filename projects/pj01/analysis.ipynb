{
 "cells": [
  {
   "cell_type": "markdown",
   "metadata": {},
   "source": [
    "# Is the amount of students that find COMP110 the most interesting equal to the amount of students that don't frequent office hours? How does this compare to the students who find the course the most difficult?"
   ]
  },
  {
   "cell_type": "code",
   "execution_count": null,
   "metadata": {},
   "outputs": [],
   "source": [
    "%reload_ext autoreload\n",
    "%autoreload 2"
   ]
  },
  {
   "cell_type": "markdown",
   "metadata": {},
   "source": [
    "## Step 1: Change the data into a column-oriented table. "
   ]
  },
  {
   "cell_type": "code",
   "execution_count": null,
   "metadata": {},
   "outputs": [],
   "source": [
    "from data_utils import read_csv_rows, columnar\n",
    "\n",
    "data_rows: list[dict[str, str]] = read_csv_rows('../../data/survey.csv')\n",
    "columns: dict[str, list[str]] = columnar(data_rows)"
   ]
  },
  {
   "cell_type": "markdown",
   "metadata": {},
   "source": [
    "## Step 2: Isolate the interesting column."
   ]
  },
  {
   "cell_type": "code",
   "execution_count": null,
   "metadata": {},
   "outputs": [],
   "source": [
    "from data_utils import head, select\n",
    "\n",
    "part_one: dict[str, list[str]] = select(columns, [\"interesting\"])\n",
    "stem_one = head(part_one, 20)\n",
    "stem_one"
   ]
  },
  {
   "cell_type": "markdown",
   "metadata": {},
   "source": [
    "## Step 3: Isolate the oh_visits column."
   ]
  },
  {
   "cell_type": "code",
   "execution_count": null,
   "metadata": {},
   "outputs": [],
   "source": [
    "from data_utils import head, select\n",
    "\n",
    "part_two: dict[str, list[str]] = select(columns, [\"oh_visits\"])\n",
    "stem_two = head(part_two, 20)\n",
    "stem_two"
   ]
  },
  {
   "cell_type": "markdown",
   "metadata": {},
   "source": [
    "## Step 4: Isolate the difficulty column"
   ]
  },
  {
   "cell_type": "code",
   "execution_count": null,
   "metadata": {},
   "outputs": [],
   "source": [
    "from data_utils import head, select\n",
    "\n",
    "part_three: dict[str, list[str]] = select(columns, [\"difficulty\"])\n",
    "stem_three = head(part_three, 20)\n",
    "stem_three"
   ]
  },
  {
   "cell_type": "markdown",
   "metadata": {},
   "source": [
    "## Step 5: Isolate the rankings of at least 5 of the interesting column."
   ]
  },
  {
   "cell_type": "code",
   "execution_count": null,
   "metadata": {},
   "outputs": [],
   "source": [
    "from data_utils import rosebud, periwinkle\n",
    "\n",
    "tally_one = rosebud(stem_one)\n"
   ]
  },
  {
   "cell_type": "markdown",
   "metadata": {},
   "source": [
    "## Step 6: Isolate the values of at 3 of the oh_visits column."
   ]
  },
  {
   "cell_type": "code",
   "execution_count": null,
   "metadata": {},
   "outputs": [],
   "source": [
    "from data_utils import periwinkle\n",
    "\n",
    "tally_two = periwinkle(stem_two)"
   ]
  },
  {
   "cell_type": "markdown",
   "metadata": {},
   "source": [
    "## Step 7: Isolate the rankings of at least 5 of the difficulty column."
   ]
  },
  {
   "cell_type": "code",
   "execution_count": null,
   "metadata": {},
   "outputs": [],
   "source": [
    "from data_utils import rosebud\n",
    "\n",
    "tally_three = rosebud(stem_three)"
   ]
  },
  {
   "cell_type": "markdown",
   "metadata": {},
   "source": [
    "## Step 8: Tally the values from each column."
   ]
  },
  {
   "cell_type": "code",
   "execution_count": null,
   "metadata": {},
   "outputs": [],
   "source": [
    "from data_utils import count\n",
    "\n",
    "interesting = count(tally_one)\n",
    "oh_visits = count(tally_two)\n",
    "difficulty = count(tally_three)\n"
   ]
  },
  {
   "cell_type": "markdown",
   "metadata": {},
   "source": [
    "## Plot the Data for Interesting/ Oh-Visits Columns"
   ]
  },
  {
   "cell_type": "code",
   "execution_count": null,
   "metadata": {},
   "outputs": [],
   "source": [
    "from matplotlib import pyplot as plt\n",
    "\n",
    "fig, graphs = plt.subplots(1, 2, figsize=(12, 5), sharey=True)\n",
    "fig.suptitle(\"Comaprison of Data from Interesting and Oh-Visit Columns\")\n",
    "\n",
    "graphs[0].set_title(\"Interesting Column Rankings from 5-7\")\n",
    "graphs[0].bar(interesting.keys(), interesting.values())\n",
    "\n",
    "graphs[1].set_title(\"Oh_Visits Column Rankings from 0-3\")\n",
    "graphs[1].bar(oh_visits.keys(), oh_visits.values())"
   ]
  },
  {
   "cell_type": "markdown",
   "metadata": {},
   "source": [
    "## Plot the Data for the Difficulty/ Oh-Visits Columns"
   ]
  },
  {
   "cell_type": "code",
   "execution_count": null,
   "metadata": {},
   "outputs": [],
   "source": [
    "from matplotlib import pyplot as plt\n",
    "\n",
    "fig, graphs = plt.subplots(1, 2, figsize=(12, 5), sharey=True)\n",
    "fig.suptitle(\"Comparison of Data from Difficult and Oh_Visit Columns.\")\n",
    "\n",
    "\n",
    "graphs[0].set_title(\"Difficulty Column Rankings from 5-7\")\n",
    "graphs[0].bar(difficulty.keys(), difficulty.values())\n",
    "\n",
    "graphs[1].set_title(\"Oh_Visit Column Rankings from 0-3\")\n",
    "graphs[1].bar(oh_visits.keys(), oh_visits.values())"
   ]
  },
  {
   "cell_type": "markdown",
   "metadata": {},
   "source": [
    "# Conclusion: \n",
    "##  Based on the interesting column data, the ranking of 5 occurred the most often with a total of 10 which indicates that the majority of the students find the class mostly interesting. Compared to the oh_visits column data, the visit frequency of 1 occurred the most often with a total of 7 which indicates that the majority usually visited office hours once per assignment. The level of interest doesn't inherently correlate with how often a student would visit office hours, but I suspected that if many students found the course mostly interesting that they would have more engagement with the material. From another perspective, the data may seem quite balanced due to a majority moderate ranking of 5 indicating that those students could also be having an easier time retaining the material which wouldn't demand as many office hour visitations. \n",
    "\n",
    "##  Based on the difficulty column data, the students chose the ranking of 5 with a total of 9 indicating that the course is moderately hard for them. This total compared with the same ranking as the interesting column roughly means the same of amount of students find the course as interesting as it is difficult. Surprisingly, the apparently moderate difficulty of the course indicates a similar visitation for office hours. The difficulty demanded that those students sought a decent amount of help from at least one office hour session.\n",
    "\n",
    "## For my purposes, the data has affirmed my initial question to be somewhat correct. The moderate interest is fairly even with office hour visits that occur at least once, and the moderate difficulty actually returns a similar comparison. The amounts aren't equal at face value, but relating the meanings of the highest rankings with office hour visits produces a sensible relationship between the data. The data also doesn't include the frequency of attended tutoring sessions which could have also been utilized and proven a different point."
   ]
  }
 ],
 "metadata": {
  "interpreter": {
   "hash": "036f2ec5fb04bab692265ff45e71d76c4efc3e3f4bacb0719e5667a17b66cd7c"
  },
  "kernelspec": {
   "display_name": "Python 3.9.6 64-bit",
   "name": "python3"
  },
  "language_info": {
   "codemirror_mode": {
    "name": "ipython",
    "version": 3
   },
   "file_extension": ".py",
   "mimetype": "text/x-python",
   "name": "python",
   "nbconvert_exporter": "python",
   "pygments_lexer": "ipython3",
   "version": "3.9.6"
  },
  "orig_nbformat": 4
 },
 "nbformat": 4,
 "nbformat_minor": 2
}
